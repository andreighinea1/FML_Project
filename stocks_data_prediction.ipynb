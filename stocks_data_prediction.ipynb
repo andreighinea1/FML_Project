{
 "cells": [
  {
   "metadata": {},
   "cell_type": "code",
   "source": [
    "import warnings\n",
    "\n",
    "import matplotlib.pyplot as plt\n",
    "import numpy as np\n",
    "import pandas as pd\n",
    "import seaborn as sns\n",
    "\n",
    "warnings.filterwarnings(\"ignore\")"
   ],
   "id": "640a2e7cf6e8d37a",
   "outputs": [],
   "execution_count": null
  },
  {
   "cell_type": "markdown",
   "id": "b18855ea",
   "metadata": {
    "papermill": {
     "duration": 0.003065,
     "end_time": "2024-12-20T22:32:34.882291",
     "exception": false,
     "start_time": "2024-12-20T22:32:34.879226",
     "status": "completed"
    },
    "tags": []
   },
   "source": "# Data Loading"
  },
  {
   "metadata": {},
   "cell_type": "code",
   "source": [
    "import kagglehub\n",
    "from kagglehub import KaggleDatasetAdapter\n",
    "\n",
    "# Load a DataFrame with a specific version of a CSV\n",
    "df: pd.DataFrame = kagglehub.load_dataset(\n",
    "    KaggleDatasetAdapter.PANDAS,\n",
    "    \"shiveshprakash/34-year-daily-stock-data/versions/1\",\n",
    "    \"stock_data.csv\",\n",
    ")\n",
    "\n",
    "# Drop useless columns or that we'll create ourselves\n",
    "df = df.drop(columns=[\"prev_day\"])\n",
    "\n",
    "# Display the first few rows of the dataframe\n",
    "df.head()"
   ],
   "id": "88b04371e8b9dd55",
   "outputs": [],
   "execution_count": null
  },
  {
   "cell_type": "markdown",
   "id": "271de872",
   "metadata": {
    "papermill": {
     "duration": 0.003422,
     "end_time": "2024-12-20T22:32:36.896597",
     "exception": false,
     "start_time": "2024-12-20T22:32:36.893175",
     "status": "completed"
    },
    "tags": []
   },
   "source": "# Data Cleaning and Preprocessing"
  },
  {
   "cell_type": "code",
   "id": "32f8eb5f",
   "metadata": {
    "execution": {
     "iopub.execute_input": "2024-12-20T22:32:36.905286Z",
     "iopub.status.busy": "2024-12-20T22:32:36.904900Z",
     "iopub.status.idle": "2024-12-20T22:32:36.915093Z",
     "shell.execute_reply": "2024-12-20T22:32:36.914061Z"
    },
    "id": "data-cleaning",
    "papermill": {
     "duration": 0.016478,
     "end_time": "2024-12-20T22:32:36.916812",
     "exception": false,
     "start_time": "2024-12-20T22:32:36.900334",
     "status": "completed"
    },
    "tags": []
   },
   "source": [
    "# Check for missing values\n",
    "df.isnull().sum()"
   ],
   "outputs": [],
   "execution_count": null
  },
  {
   "cell_type": "code",
   "id": "e055ca0d",
   "metadata": {
    "execution": {
     "iopub.execute_input": "2024-12-20T22:32:36.925869Z",
     "iopub.status.busy": "2024-12-20T22:32:36.925530Z",
     "iopub.status.idle": "2024-12-20T22:32:36.938118Z",
     "shell.execute_reply": "2024-12-20T22:32:36.937196Z"
    },
    "id": "data-preprocessing",
    "papermill": {
     "duration": 0.019021,
     "end_time": "2024-12-20T22:32:36.939800",
     "exception": false,
     "start_time": "2024-12-20T22:32:36.920779",
     "status": "completed"
    },
    "tags": []
   },
   "source": [
    "# Convert \"dt\" to datetime format\n",
    "df[\"dt\"] = pd.to_datetime(df[\"dt\"], format=\"%Y-%m-%d\")\n",
    "\n",
    "# Check data types\n",
    "df.dtypes"
   ],
   "outputs": [],
   "execution_count": null
  },
  {
   "cell_type": "markdown",
   "id": "fa788377",
   "metadata": {
    "papermill": {
     "duration": 0.003836,
     "end_time": "2024-12-20T22:32:36.947821",
     "exception": false,
     "start_time": "2024-12-20T22:32:36.943985",
     "status": "completed"
    },
    "tags": []
   },
   "source": "# Data Analysis"
  },
  {
   "metadata": {},
   "cell_type": "markdown",
   "source": "### General Plots",
   "id": "25cc0f0cd6045363"
  },
  {
   "cell_type": "code",
   "id": "15b99a7a",
   "metadata": {
    "execution": {
     "iopub.execute_input": "2024-12-20T22:32:36.957262Z",
     "iopub.status.busy": "2024-12-20T22:32:36.956917Z",
     "iopub.status.idle": "2024-12-20T22:32:37.395839Z",
     "shell.execute_reply": "2024-12-20T22:32:37.394832Z"
    },
    "id": "eda",
    "papermill": {
     "duration": 0.445954,
     "end_time": "2024-12-20T22:32:37.397827",
     "exception": false,
     "start_time": "2024-12-20T22:32:36.951873",
     "status": "completed"
    },
    "tags": []
   },
   "source": [
    "# Plot the S&P 500 over time\n",
    "plt.figure(figsize=(12, 6))\n",
    "sns.lineplot(x=df[\"dt\"], y=df[\"sp500\"], label=\"S&P 500\")\n",
    "plt.title(\"S&P 500 Index Over Time\")\n",
    "plt.xlabel(\"Date\")\n",
    "plt.ylabel(\"S&P 500 Index\")\n",
    "plt.legend()\n",
    "plt.show()"
   ],
   "outputs": [],
   "execution_count": null
  },
  {
   "cell_type": "code",
   "id": "2f06cc25",
   "metadata": {
    "execution": {
     "iopub.execute_input": "2024-12-20T22:32:37.409048Z",
     "iopub.status.busy": "2024-12-20T22:32:37.408621Z",
     "iopub.status.idle": "2024-12-20T22:32:37.690464Z",
     "shell.execute_reply": "2024-12-20T22:32:37.689398Z"
    },
    "id": "eda-2",
    "papermill": {
     "duration": 0.289506,
     "end_time": "2024-12-20T22:32:37.692271",
     "exception": false,
     "start_time": "2024-12-20T22:32:37.402765",
     "status": "completed"
    },
    "tags": []
   },
   "source": [
    "# Visualize the relationship between S&P 500 and DJIA\n",
    "sns.scatterplot(x=\"sp500\", y=\"djia\", data=df)\n",
    "plt.title(\"S&P 500 vs DJIA\")\n",
    "plt.xlabel(\"S&P 500 Index\")\n",
    "plt.ylabel(\"DJIA Index\")\n",
    "plt.show()"
   ],
   "outputs": [],
   "execution_count": null
  },
  {
   "cell_type": "markdown",
   "id": "ab5b2c71",
   "metadata": {
    "papermill": {
     "duration": 0.00554,
     "end_time": "2024-12-20T22:32:37.705110",
     "exception": false,
     "start_time": "2024-12-20T22:32:37.699570",
     "status": "completed"
    },
    "tags": []
   },
   "source": "### Correlation Analysis"
  },
  {
   "cell_type": "code",
   "id": "1651eb6a",
   "metadata": {
    "execution": {
     "iopub.execute_input": "2024-12-20T22:32:37.718150Z",
     "iopub.status.busy": "2024-12-20T22:32:37.717809Z",
     "iopub.status.idle": "2024-12-20T22:32:38.385552Z",
     "shell.execute_reply": "2024-12-20T22:32:38.384335Z"
    },
    "id": "correlation-analysis",
    "papermill": {
     "duration": 0.677953,
     "end_time": "2024-12-20T22:32:38.389005",
     "exception": false,
     "start_time": "2024-12-20T22:32:37.711052",
     "status": "completed"
    },
    "tags": []
   },
   "source": [
    "# Select only numeric columns for correlation analysis\n",
    "numeric_df = df.select_dtypes(include=[np.number])\n",
    "\n",
    "# Compute the correlation matrix\n",
    "corr_matrix = numeric_df.corr()\n",
    "\n",
    "# Plot the heatmap\n",
    "plt.figure(figsize=(12, 8))\n",
    "sns.heatmap(corr_matrix, annot=True, fmt=\".2f\", cmap=\"coolwarm\")\n",
    "plt.title(\"Correlation Heatmap\")\n",
    "plt.show()"
   ],
   "outputs": [],
   "execution_count": null
  },
  {
   "cell_type": "markdown",
   "id": "e37833eb",
   "metadata": {
    "papermill": {
     "duration": 0.008164,
     "end_time": "2024-12-20T22:32:38.405897",
     "exception": false,
     "start_time": "2024-12-20T22:32:38.397733",
     "status": "completed"
    },
    "tags": []
   },
   "source": "# Predictive Modeling"
  },
  {
   "cell_type": "code",
   "id": "5d082cd9",
   "metadata": {
    "execution": {
     "iopub.execute_input": "2024-12-20T22:32:38.424834Z",
     "iopub.status.busy": "2024-12-20T22:32:38.424353Z",
     "iopub.status.idle": "2024-12-20T22:32:38.836542Z",
     "shell.execute_reply": "2024-12-20T22:32:38.833655Z"
    },
    "id": "predictive-modeling",
    "papermill": {
     "duration": 0.427977,
     "end_time": "2024-12-20T22:32:38.842592",
     "exception": false,
     "start_time": "2024-12-20T22:32:38.414615",
     "status": "completed"
    },
    "tags": []
   },
   "source": [
    "from sklearn.model_selection import train_test_split\n",
    "from sklearn.linear_model import LinearRegression\n",
    "from sklearn.metrics import mean_squared_error, r2_score\n",
    "\n",
    "# Define features and target\n",
    "X = numeric_df.drop(columns=[\"sp500\"])\n",
    "y = numeric_df[\"sp500\"]\n",
    "\n",
    "# Split the data into training and testing sets\n",
    "X_train, X_test, y_train, y_test = train_test_split(X, y, test_size=0.2, random_state=42)\n",
    "\n",
    "# Initialize and train the model\n",
    "model = LinearRegression()\n",
    "model.fit(X_train, y_train)\n",
    "\n",
    "# Make predictions\n",
    "y_pred = model.predict(X_test)\n",
    "\n",
    "# Evaluate the model\n",
    "mse = mean_squared_error(y_test, y_pred)\n",
    "r2 = r2_score(y_test, y_pred)\n",
    "\n",
    "mse, r2"
   ],
   "outputs": [],
   "execution_count": null
  },
  {
   "cell_type": "markdown",
   "id": "577b2b88",
   "metadata": {
    "papermill": {
     "duration": 0.0286,
     "end_time": "2024-12-20T22:32:38.900671",
     "exception": false,
     "start_time": "2024-12-20T22:32:38.872071",
     "status": "completed"
    },
    "tags": []
   },
   "source": [
    "# Conclusion and Future Work\n",
    "..."
   ]
  }
 ],
 "metadata": {
  "accelerator": "GPU",
  "colab": {
   "name": "34-Year Daily Stock Data Analysis.ipynb",
   "provenance": []
  },
  "kernelspec": {
   "display_name": "Python 3",
   "language": "python",
   "name": "python3"
  },
  "language_info": {
   "codemirror_mode": {
    "name": "ipython",
    "version": 3
   },
   "file_extension": ".py",
   "mimetype": "text/x-python",
   "name": "python",
   "nbconvert_exporter": "python",
   "pygments_lexer": "ipython3",
   "version": "3.10.12"
  },
  "papermill": {
   "default_parameters": {},
   "duration": 6.964457,
   "end_time": "2024-12-20T22:32:39.675025",
   "environment_variables": {},
   "exception": null,
   "input_path": "__notebook__.ipynb",
   "output_path": "__notebook__.ipynb",
   "parameters": {},
   "start_time": "2024-12-20T22:32:32.710568",
   "version": "2.6.0"
  }
 },
 "nbformat": 4,
 "nbformat_minor": 5
}
